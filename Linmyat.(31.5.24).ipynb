{
 "cells": [
  {
   "cell_type": "code",
   "execution_count": 1,
   "metadata": {},
   "outputs": [
    {
     "ename": "ValueError",
     "evalue": "invalid literal for int() with base 10: ''",
     "output_type": "error",
     "traceback": [
      "\u001b[0;31m---------------------------------------------------------------------------\u001b[0m",
      "\u001b[0;31mValueError\u001b[0m                                Traceback (most recent call last)",
      "Cell \u001b[0;32mIn[1], line 15\u001b[0m\n\u001b[1;32m     12\u001b[0m cor \u001b[38;5;241m=\u001b[39m\u001b[38;5;241m17\u001b[39m\n\u001b[1;32m     14\u001b[0m \u001b[38;5;66;03m#cor = int(input(f\"{day} Cor(%): \"))\u001b[39;00m\n\u001b[0;32m---> 15\u001b[0m selling_price \u001b[38;5;241m=\u001b[39m \u001b[38;5;28;43mint\u001b[39;49m\u001b[43m(\u001b[49m\u001b[38;5;28;43minput\u001b[39;49m\u001b[43m(\u001b[49m\u001b[38;5;124;43mf\u001b[39;49m\u001b[38;5;124;43m\"\u001b[39;49m\u001b[38;5;132;43;01m{\u001b[39;49;00m\u001b[43mday\u001b[49m\u001b[38;5;132;43;01m}\u001b[39;49;00m\u001b[38;5;124;43m Selling price: \u001b[39;49m\u001b[38;5;124;43m\"\u001b[39;49m\u001b[43m)\u001b[49m\u001b[43m)\u001b[49m\n\u001b[1;32m     16\u001b[0m pauk \u001b[38;5;241m=\u001b[39m \u001b[38;5;28mint\u001b[39m(\u001b[38;5;28minput\u001b[39m(\u001b[38;5;124mf\u001b[39m\u001b[38;5;124m\"\u001b[39m\u001b[38;5;132;01m{\u001b[39;00mday\u001b[38;5;132;01m}\u001b[39;00m\u001b[38;5;124m p: \u001b[39m\u001b[38;5;124m\"\u001b[39m))\n\u001b[1;32m     17\u001b[0m final \u001b[38;5;241m=\u001b[39m calculation(day, cor, selling_price, pauk)\n",
      "\u001b[0;31mValueError\u001b[0m: invalid literal for int() with base 10: ''"
     ]
    }
   ],
   "source": [
    "def calculation(day, cor, selling_price, pauk):\n",
    "    commission = selling_price * (cor / 100)\n",
    "    cor_sell = selling_price - commission\n",
    "    final = int(cor_sell - (80 * pauk))\n",
    "    print(f\"{day}\\n{selling_price}-{cor}% = {cor_sell}\\np{pauk}\\nT={int(final)}\\n\")\n",
    "    return final\n",
    "\n",
    "total = 0\n",
    "\n",
    "for day in [\"Monday am\",\"Monday pm\", \"Tuesday am\",\"Tuesday pm\", \"Wednesday am\",\"Wednesday pm\",\n",
    "            \"Thursday am\",\"Thursday pm\", \"Friday am\",\"Friday pm\"]:\n",
    "    cor =17\n",
    "    \n",
    "    #cor = int(input(f\"{day} Cor(%): \"))\n",
    "    selling_price = int(input(f\"{day} Selling price: \"))\n",
    "    pauk = int(input(f\"{day} p: \"))\n",
    "    final = calculation(day, cor, selling_price, pauk)\n",
    "    total+=final\n",
    "    print(total)\n",
    "    \n",
    "print(total)\n",
    "\n"
   ]
  }
 ],
 "metadata": {
  "kernelspec": {
   "display_name": "movie",
   "language": "python",
   "name": "python3"
  },
  "language_info": {
   "codemirror_mode": {
    "name": "ipython",
    "version": 3
   },
   "file_extension": ".py",
   "mimetype": "text/x-python",
   "name": "python",
   "nbconvert_exporter": "python",
   "pygments_lexer": "ipython3",
   "version": "3.1.-1"
  }
 },
 "nbformat": 4,
 "nbformat_minor": 2
}
